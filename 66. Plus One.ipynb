{
 "cells": [
  {
   "cell_type": "code",
   "execution_count": 2,
   "id": "95dfe2fd",
   "metadata": {},
   "outputs": [
    {
     "data": {
      "text/plain": [
       "124"
      ]
     },
     "execution_count": 2,
     "metadata": {},
     "output_type": "execute_result"
    }
   ],
   "source": [
    "class Solution(object):\n",
    "    def plusOne(self, digits):\n",
    "        sum = 0\n",
    "        \n",
    "        # turn digits into integer first, number of digits determines powers of 10\n",
    "        power = len(digits) - 1\n",
    "        for digit in digits:\n",
    "            sum += digit * (10**power)\n",
    "            \n",
    "            # decrement power\n",
    "            power -= 1\n",
    "        \n",
    "        return (sum + 1)\n",
    "        \n",
    "        \n",
    "digits = [1,2,3]\n",
    "Solution().plusOne(digits)"
   ]
  },
  {
   "cell_type": "markdown",
   "id": "22471363",
   "metadata": {},
   "source": [
    "Now, turn the resultant number into a list"
   ]
  },
  {
   "cell_type": "code",
   "execution_count": 8,
   "id": "104b03e4",
   "metadata": {},
   "outputs": [
    {
     "data": {
      "text/plain": [
       "[1, 2, 4]"
      ]
     },
     "execution_count": 8,
     "metadata": {},
     "output_type": "execute_result"
    }
   ],
   "source": [
    "class Solution(object):\n",
    "    def plusOne(self, digits):\n",
    "        sum = 0\n",
    "        \n",
    "        # turn digits into integer first, number of digits determines powers of 10\n",
    "        power = len(digits) - 1\n",
    "        for digit in digits:\n",
    "            sum += digit * (10**power)\n",
    "            \n",
    "            # decrement power\n",
    "            power -= 1\n",
    "        \n",
    "        sum += 1\n",
    "        \n",
    "        # go through each element in stringified sum, and then turn each into an int, return as a list\n",
    "        return [int(digit) for digit in str(sum)]\n",
    "        \n",
    "        \n",
    "digits = [1,2,3]\n",
    "Solution().plusOne(digits)"
   ]
  },
  {
   "cell_type": "markdown",
   "id": "aa2765fa",
   "metadata": {},
   "source": [
    "accepted: faster than 98%, less memory than 8%"
   ]
  },
  {
   "cell_type": "code",
   "execution_count": 7,
   "id": "5d09a786",
   "metadata": {},
   "outputs": [
    {
     "data": {
      "text/plain": [
       "[1, 2, 3]"
      ]
     },
     "execution_count": 7,
     "metadata": {},
     "output_type": "execute_result"
    }
   ],
   "source": [
    "num = 123\n",
    "\n",
    "numList = [int(digit) for digit in str(num)]\n",
    "numList"
   ]
  },
  {
   "cell_type": "code",
   "execution_count": null,
   "id": "a8804617",
   "metadata": {},
   "outputs": [],
   "source": []
  }
 ],
 "metadata": {
  "kernelspec": {
   "display_name": "Python 3 (ipykernel)",
   "language": "python",
   "name": "python3"
  },
  "language_info": {
   "codemirror_mode": {
    "name": "ipython",
    "version": 3
   },
   "file_extension": ".py",
   "mimetype": "text/x-python",
   "name": "python",
   "nbconvert_exporter": "python",
   "pygments_lexer": "ipython3",
   "version": "3.10.5"
  }
 },
 "nbformat": 4,
 "nbformat_minor": 5
}
