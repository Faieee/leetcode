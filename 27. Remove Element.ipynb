{
 "cells": [
  {
   "cell_type": "markdown",
   "id": "db4eb0c1",
   "metadata": {},
   "source": [
    "Pasting code from 26. Remove Duplicates from Sorted Array for reference, will try and use a similar code"
   ]
  },
  {
   "cell_type": "code",
   "execution_count": null,
   "id": "7b10e498",
   "metadata": {},
   "outputs": [],
   "source": [
    "class Solution:\n",
    "    def removeDuplicates(self, nums):\n",
    "        # counter to keep track of recording spot\n",
    "        writing = 0\n",
    "        # keep track of current number (starts at -100)\n",
    "        current = -101\n",
    "        # counter for solution on leetcode\n",
    "        k = 0\n",
    "        \n",
    "        # go through nums\n",
    "        for num in nums:\n",
    "            # if next num is bigger than current (not a duplicate) add it to the current spot\n",
    "            if num > current:\n",
    "                nums[writing] = num\n",
    "                \n",
    "                # update current and move up writing spot\n",
    "                current = num\n",
    "                writing += 1\n",
    "                k += 1\n",
    "                \n",
    "        return k\n",
    "\n",
    "nums = [0, 0, 1, 1, 1, 2, 3, 4, 4]\n",
    "Solution().removeDuplicates(nums)\n",
    "print(nums)"
   ]
  },
  {
   "cell_type": "code",
   "execution_count": 1,
   "id": "458ee353",
   "metadata": {},
   "outputs": [
    {
     "name": "stdout",
     "output_type": "stream",
     "text": [
      "[0, 1, 3, 0, 4, 0, 4, 2]\n"
     ]
    }
   ],
   "source": [
    "class Solution(object):\n",
    "    def removeElement(self, nums, val):\n",
    "        # counter to keep track of recording spot\n",
    "        writing = 0\n",
    "        # counter for solution on leetcode\n",
    "        k = 0\n",
    "        \n",
    "        for num in nums:\n",
    "            # if next num =/= val, add it in. otherwise, skip over it\n",
    "            if num != val:\n",
    "                nums[writing] = num\n",
    "                \n",
    "                # move up writing spot\n",
    "                writing += 1\n",
    "                k += 1\n",
    "        \n",
    "        \n",
    "        return k\n",
    "\n",
    "nums = [0,1,2,2,3,0,4,2]\n",
    "val = 2\n",
    "Solution().removeElement(nums, val)\n",
    "print(nums)"
   ]
  },
  {
   "cell_type": "raw",
   "id": "bd831683",
   "metadata": {},
   "source": [
    "Accepted: beats 75% time, 96% memory"
   ]
  }
 ],
 "metadata": {
  "kernelspec": {
   "display_name": "Python 3 (ipykernel)",
   "language": "python",
   "name": "python3"
  },
  "language_info": {
   "codemirror_mode": {
    "name": "ipython",
    "version": 3
   },
   "file_extension": ".py",
   "mimetype": "text/x-python",
   "name": "python",
   "nbconvert_exporter": "python",
   "pygments_lexer": "ipython3",
   "version": "3.10.5"
  }
 },
 "nbformat": 4,
 "nbformat_minor": 5
}
