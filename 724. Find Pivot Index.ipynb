{
 "cells": [
  {
   "cell_type": "code",
   "execution_count": 6,
   "id": "4093f438",
   "metadata": {},
   "outputs": [
    {
     "name": "stdout",
     "output_type": "stream",
     "text": [
      "[1, 8, 11, 17, 22, 28]\n",
      "[28, 27, 20, 17, 11, 6]\n"
     ]
    },
    {
     "data": {
      "text/plain": [
       "3"
      ]
     },
     "execution_count": 6,
     "metadata": {},
     "output_type": "execute_result"
    }
   ],
   "source": [
    "class Solution(object):\n",
    "    def pivotIndex(self, nums):\n",
    "        # using code from running sum problem\n",
    "        leftSums = []\n",
    "        leftTotal = 0\n",
    "        \n",
    "        for num in nums:\n",
    "            leftTotal += num\n",
    "            leftSums.append(leftTotal)\n",
    "        \n",
    "        print(leftSums)\n",
    "        \n",
    "        \n",
    "        \n",
    "        rightSums = []\n",
    "        rightTotal = 0\n",
    "        \n",
    "        for num in reversed(nums):\n",
    "            rightTotal += num\n",
    "            rightSums.append(rightTotal)\n",
    "        \n",
    "        rightSums = list(reversed(rightSums))\n",
    "        print(rightSums)\n",
    "        \n",
    "        # if a pivot index exists, there will be a running sum from the left\n",
    "        # that equals the running sum from the right for the same index\n",
    "        for index, sum in enumerate(leftSums):\n",
    "            if leftSums[index] == rightSums[index]:\n",
    "                return index\n",
    "        \n",
    "        # if the for loop never returns anything, a pivot index does not exist\n",
    "        return(-1)\n",
    "        \n",
    "        \n",
    "        \n",
    "nums = [1,7,3,6,5,6]\n",
    "Solution().pivotIndex(nums)"
   ]
  },
  {
   "cell_type": "markdown",
   "id": "d95e6239",
   "metadata": {},
   "source": [
    "Accepted, 40% time, 7% memory"
   ]
  },
  {
   "cell_type": "code",
   "execution_count": 11,
   "id": "fbd51c9e",
   "metadata": {},
   "outputs": [
    {
     "data": {
      "text/plain": [
       "3"
      ]
     },
     "execution_count": 11,
     "metadata": {},
     "output_type": "execute_result"
    }
   ],
   "source": [
    "class Solution(object):\n",
    "    def pivotIndex(self, nums):\n",
    "        total = sum(nums)\n",
    "        \n",
    "        runningSum = 0\n",
    "        \n",
    "        # iterate through nums, adding each num to the running sum and subtracting from the total (the right running sum).\n",
    "        # If those two are ever equal, that means a pivot index was found.\n",
    "        for index, num in enumerate(nums):\n",
    "            total -= num\n",
    "            \n",
    "            if runningSum == total:\n",
    "                return(index)\n",
    "            \n",
    "            runningSum += num\n",
    "        \n",
    "        return(-1)\n",
    "        \n",
    "        \n",
    "        \n",
    "nums = [1,7,3,6,5,6]\n",
    "Solution().pivotIndex(nums)"
   ]
  },
  {
   "cell_type": "markdown",
   "id": "0d4b5a2e",
   "metadata": {},
   "source": [
    "Accepted, 95% time, 86% memory"
   ]
  }
 ],
 "metadata": {
  "kernelspec": {
   "display_name": "Python 3 (ipykernel)",
   "language": "python",
   "name": "python3"
  },
  "language_info": {
   "codemirror_mode": {
    "name": "ipython",
    "version": 3
   },
   "file_extension": ".py",
   "mimetype": "text/x-python",
   "name": "python",
   "nbconvert_exporter": "python",
   "pygments_lexer": "ipython3",
   "version": "3.10.5"
  }
 },
 "nbformat": 4,
 "nbformat_minor": 5
}
