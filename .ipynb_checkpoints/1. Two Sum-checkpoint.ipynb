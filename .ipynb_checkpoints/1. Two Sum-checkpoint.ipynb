{
 "cells": [
  {
   "cell_type": "markdown",
   "id": "47d2971f",
   "metadata": {},
   "source": [
    "First Submission (brute force)"
   ]
  },
  {
   "cell_type": "code",
   "execution_count": null,
   "id": "13e6d3f7",
   "metadata": {},
   "outputs": [],
   "source": [
    "class Solution(object):\n",
    "    def twoSum(self, nums, target):\n",
    "        \"\"\"\n",
    "        :type nums: List[int]\n",
    "        :type target: int\n",
    "        :rtype: List[int]\n",
    "        \"\"\"\n",
    "\n",
    "        sum = 0\n",
    "        num_a = (0, 0)\n",
    "        for index, number in enumerate(nums):\n",
    "            num_a = (index, number)\n",
    "\n",
    "            for index, number in enumerate(nums[:index]):\n",
    "                num_b = (index, number)\n",
    "                sum = num_a[1] + num_b[1]\n",
    "\n",
    "                if sum == target:\n",
    "                    return [num_a[0], num_b[0]]"
   ]
  },
  {
   "cell_type": "markdown",
   "id": "1ca9e307",
   "metadata": {},
   "source": [
    "Second solution w/ dict"
   ]
  },
  {
   "cell_type": "code",
   "execution_count": null,
   "id": "6c277514",
   "metadata": {},
   "outputs": [],
   "source": [
    "class Solution(object):\n",
    "    def twoSum(self, nums, target):\n",
    "        \"\"\"\n",
    "        :type nums: List[int]\n",
    "        :type target: int\n",
    "        :rtype: List[int]\n",
    "        \"\"\"\n",
    "        \n",
    "        difference = {}\n",
    "        for index, value in enumerate(nums):\n",
    "            if value in difference:\n",
    "                return([index, difference[value]])\n",
    "            else:\n",
    "                difference[target - value] = index"
   ]
  }
 ],
 "metadata": {
  "kernelspec": {
   "display_name": "Python 3 (ipykernel)",
   "language": "python",
   "name": "python3"
  },
  "language_info": {
   "codemirror_mode": {
    "name": "ipython",
    "version": 3
   },
   "file_extension": ".py",
   "mimetype": "text/x-python",
   "name": "python",
   "nbconvert_exporter": "python",
   "pygments_lexer": "ipython3",
   "version": "3.10.5"
  }
 },
 "nbformat": 4,
 "nbformat_minor": 5
}
