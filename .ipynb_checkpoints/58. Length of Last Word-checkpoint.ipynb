{
 "cells": [
  {
   "cell_type": "code",
   "execution_count": 2,
   "id": "b069aa9a",
   "metadata": {},
   "outputs": [
    {
     "data": {
      "text/plain": [
       "4"
      ]
     },
     "execution_count": 2,
     "metadata": {},
     "output_type": "execute_result"
    }
   ],
   "source": [
    "class Solution(object):\n",
    "    def lengthOfLastWord(self, s):\n",
    "        # split string into words\n",
    "        splitList = s.split()\n",
    "        \n",
    "        return len(splitList[len(splitList) -1])\n",
    "        \n",
    "        \n",
    "        \n",
    "        \n",
    "        \n",
    "s = \"   fly me   to   the moon  \"\n",
    "Solution().lengthOfLastWord(s)"
   ]
  },
  {
   "cell_type": "markdown",
   "id": "de667652",
   "metadata": {},
   "source": [
    "accepted: faster than 93%, this was dissapointingly easy, better than 73% memory"
   ]
  },
  {
   "cell_type": "code",
   "execution_count": 1,
   "id": "a47abffe",
   "metadata": {},
   "outputs": [
    {
     "data": {
      "text/plain": [
       "['fly', 'me', 'to', 'the', 'moon']"
      ]
     },
     "execution_count": 1,
     "metadata": {},
     "output_type": "execute_result"
    }
   ],
   "source": [
    "testlist = \"   fly me   to   the moon  \"\n",
    "testlist.split()"
   ]
  },
  {
   "cell_type": "code",
   "execution_count": null,
   "id": "bb3b89fc",
   "metadata": {},
   "outputs": [],
   "source": []
  }
 ],
 "metadata": {
  "kernelspec": {
   "display_name": "Python 3 (ipykernel)",
   "language": "python",
   "name": "python3"
  },
  "language_info": {
   "codemirror_mode": {
    "name": "ipython",
    "version": 3
   },
   "file_extension": ".py",
   "mimetype": "text/x-python",
   "name": "python",
   "nbconvert_exporter": "python",
   "pygments_lexer": "ipython3",
   "version": "3.10.5"
  }
 },
 "nbformat": 4,
 "nbformat_minor": 5
}
