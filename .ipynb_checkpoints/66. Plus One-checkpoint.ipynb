{
 "cells": [
  {
   "cell_type": "code",
   "execution_count": 2,
   "id": "95dfe2fd",
   "metadata": {},
   "outputs": [
    {
     "data": {
      "text/plain": [
       "124"
      ]
     },
     "execution_count": 2,
     "metadata": {},
     "output_type": "execute_result"
    }
   ],
   "source": [
    "class Solution(object):\n",
    "    def plusOne(self, digits):\n",
    "        sum = 0\n",
    "        \n",
    "        # turn digits into integer first, number of digits determines powers of 10\n",
    "        power = len(digits) - 1\n",
    "        for digit in digits:\n",
    "            sum += digit * (10**power)\n",
    "            \n",
    "            # decrement power\n",
    "            power -= 1\n",
    "        \n",
    "        return (sum + 1)\n",
    "        \n",
    "        \n",
    "digits = [1,2,3]\n",
    "Solution().plusOne(digits)"
   ]
  },
  {
   "cell_type": "markdown",
   "id": "22471363",
   "metadata": {},
   "source": [
    "Now, turn the resultant number into a list"
   ]
  },
  {
   "cell_type": "code",
   "execution_count": 29,
   "id": "104b03e4",
   "metadata": {},
   "outputs": [
    {
     "data": {
      "text/plain": [
       "[1, 2, 4]"
      ]
     },
     "execution_count": 29,
     "metadata": {},
     "output_type": "execute_result"
    }
   ],
   "source": [
    "class Solution:\n",
    "    def plusOne(self, digits):\n",
    "        sum = 0\n",
    "        \n",
    "        # turn digits into integer first, number of digits determines powers of 10\n",
    "        power = len(digits) - 1\n",
    "        for digit in digits:\n",
    "            sum += digit * (10**power)\n",
    "            \n",
    "            # decrement power\n",
    "            power -= 1\n",
    "        \n",
    "        sum += 1\n",
    "        \n",
    "        # go through each element in stringified sum, and then turn each into an int, return as a list\n",
    "        return [int(digit) for digit in str(sum)]\n",
    "        \n",
    "        \n",
    "digits = [1,2,3]\n",
    "Solution().plusOne(digits)"
   ]
  },
  {
   "cell_type": "markdown",
   "id": "aa2765fa",
   "metadata": {},
   "source": [
    "accepted: faster than 98%, less memory than 8%"
   ]
  },
  {
   "cell_type": "code",
   "execution_count": 7,
   "id": "5d09a786",
   "metadata": {},
   "outputs": [
    {
     "data": {
      "text/plain": [
       "[1, 2, 3]"
      ]
     },
     "execution_count": 7,
     "metadata": {},
     "output_type": "execute_result"
    }
   ],
   "source": [
    "num = 123\n",
    "\n",
    "numList = [int(digit) for digit in str(num)]\n",
    "numList"
   ]
  },
  {
   "cell_type": "markdown",
   "id": "658edd75",
   "metadata": {},
   "source": [
    "Another solution that doesn't convert array to integer first"
   ]
  },
  {
   "cell_type": "code",
   "execution_count": 5,
   "id": "a8804617",
   "metadata": {},
   "outputs": [
    {
     "data": {
      "text/plain": [
       "[1, 1, 2, 3, 4, 5]"
      ]
     },
     "execution_count": 5,
     "metadata": {},
     "output_type": "execute_result"
    }
   ],
   "source": [
    "testArray = [1, 2, 3, 4, 5]\n",
    "testArrayTwo = [1]\n",
    "\n",
    "for element in testArray:\n",
    "    testArrayTwo.append(element)\n",
    "    \n",
    "testArrayTwo"
   ]
  },
  {
   "cell_type": "code",
   "execution_count": 78,
   "id": "fd42cdc2",
   "metadata": {},
   "outputs": [
    {
     "data": {
      "text/plain": [
       "[1, 2, 9, 4, 0]"
      ]
     },
     "execution_count": 78,
     "metadata": {},
     "output_type": "execute_result"
    }
   ],
   "source": [
    "class Solution(object):\n",
    "    def plusOne(self, digits):\n",
    "        oneCounter = True\n",
    "        returnDigits = []\n",
    "        \n",
    "        # go through list in reverse order and carry the 1 as far as necessary\n",
    "        for digit in digits[::-1]:\n",
    "            if oneCounter == True:\n",
    "                digit += 1\n",
    "                \n",
    "                if digit == 10:\n",
    "                    digit = 0\n",
    "            # set oneCounter to False if addition doesn't result in a 0\n",
    "            if digit != 0:\n",
    "                oneCounter = False\n",
    "            \n",
    "            returnDigits.append(digit)\n",
    "        \n",
    "        # if all digits were 9's, add a 1 to the end of returnDigits\n",
    "        \n",
    "        if oneCounter:\n",
    "            returnDigits.append(1)\n",
    "        \n",
    "        return(returnDigits[::-1])\n",
    "        \n",
    "        \n",
    "digits = [1,2,9,3,9]\n",
    "Solution().plusOne(digits)"
   ]
  },
  {
   "cell_type": "markdown",
   "id": "ef9ca6e0",
   "metadata": {},
   "source": [
    "Accepted, 62% speed, 49% memory. Next will try a recursive solution."
   ]
  },
  {
   "cell_type": "code",
   "execution_count": 20,
   "id": "c62c8c88",
   "metadata": {},
   "outputs": [
    {
     "data": {
      "text/plain": [
       "[1, 0, 0, 0, 0]"
      ]
     },
     "execution_count": 20,
     "metadata": {},
     "output_type": "execute_result"
    }
   ],
   "source": [
    "class Solution(object):\n",
    "    def plusOne(self, digits):\n",
    "        # increment digit by 1, if it hits 10, reset it to 0, and call itself with index-1\n",
    "        def incrementDigit(index):\n",
    "            if index != -1:\n",
    "                digits[index] += 1\n",
    "\n",
    "                if digits[index] == 10:\n",
    "                    digits[index] = 0\n",
    "                    incrementDigit(index - 1)\n",
    "\n",
    "        index = len(digits) - 1\n",
    "        returnDigits = [1]\n",
    "        allZeroes = False\n",
    "        \n",
    "        incrementDigit(index)\n",
    "        \n",
    "        if digits[0] == 0:\n",
    "            returnDigits.extend(digits)\n",
    "            return(returnDigits)\n",
    "        else:\n",
    "            return(digits)\n",
    "        \n",
    "digits = [9, 9, 9, 9]\n",
    "Solution().plusOne(digits)"
   ]
  },
  {
   "cell_type": "code",
   "execution_count": null,
   "id": "ba3c5bec",
   "metadata": {},
   "outputs": [],
   "source": [
    "Accepted, 98% speed, 49% memory"
   ]
  },
  {
   "cell_type": "code",
   "execution_count": 113,
   "id": "917f7dff",
   "metadata": {},
   "outputs": [
    {
     "data": {
      "text/plain": [
       "range(0, 10)"
      ]
     },
     "execution_count": 113,
     "metadata": {},
     "output_type": "execute_result"
    }
   ],
   "source": [
    "range(10)"
   ]
  },
  {
   "cell_type": "code",
   "execution_count": 9,
   "id": "0b8608c7",
   "metadata": {},
   "outputs": [
    {
     "data": {
      "text/plain": [
       "[0, 1, 2, 3, 4, 5, 6, 7, 8, 9]"
      ]
     },
     "execution_count": 9,
     "metadata": {},
     "output_type": "execute_result"
    }
   ],
   "source": [
    "list(range(10))"
   ]
  },
  {
   "cell_type": "code",
   "execution_count": 14,
   "id": "fc11350f",
   "metadata": {},
   "outputs": [],
   "source": [
    "decrement = list(range(9, -1, -1))"
   ]
  },
  {
   "cell_type": "code",
   "execution_count": 18,
   "id": "37e6b9fa",
   "metadata": {},
   "outputs": [
    {
     "name": "stdout",
     "output_type": "stream",
     "text": [
      "6 5 4 3 2 1 0 "
     ]
    }
   ],
   "source": [
    "for element in decrement[3:]:\n",
    "    print(element, end=' ')"
   ]
  },
  {
   "cell_type": "code",
   "execution_count": 19,
   "id": "d860ab80",
   "metadata": {},
   "outputs": [
    {
     "data": {
      "text/plain": [
       "0"
      ]
     },
     "execution_count": 19,
     "metadata": {},
     "output_type": "execute_result"
    }
   ],
   "source": [
    "decrement[len(decrement) -1]"
   ]
  },
  {
   "cell_type": "code",
   "execution_count": 21,
   "id": "bd371c69",
   "metadata": {},
   "outputs": [
    {
     "data": {
      "text/plain": [
       "1"
      ]
     },
     "execution_count": 21,
     "metadata": {},
     "output_type": "execute_result"
    }
   ],
   "source": [
    "decrement[-2]"
   ]
  },
  {
   "cell_type": "code",
   "execution_count": 27,
   "id": "dd2509d6",
   "metadata": {},
   "outputs": [
    {
     "name": "stdout",
     "output_type": "stream",
     "text": [
      "10\n",
      "5\n"
     ]
    }
   ],
   "source": [
    "class Class:\n",
    "    x_global = 10\n",
    "    def __init__(self, x):\n",
    "        self.x = x\n",
    "    def print_data(self):\n",
    "        print(self.x)\n",
    "        \n",
    "\n",
    "print(Class.x_global)\n",
    "        \n",
    "c = Class(5)\n",
    "c.print_data()"
   ]
  },
  {
   "cell_type": "code",
   "execution_count": null,
   "id": "ccc40ad1",
   "metadata": {},
   "outputs": [],
   "source": [
    "class Class1(Class):\n",
    "    pass"
   ]
  },
  {
   "cell_type": "code",
   "execution_count": 31,
   "id": "d65666f8",
   "metadata": {},
   "outputs": [],
   "source": [
    "for i in [0, 1, 2]:\n",
    "    pass"
   ]
  },
  {
   "cell_type": "code",
   "execution_count": 36,
   "id": "444370d8",
   "metadata": {},
   "outputs": [
    {
     "name": "stdout",
     "output_type": "stream",
     "text": [
      "2\n",
      "1\n"
     ]
    }
   ],
   "source": [
    "list = [1, 2, 3]\n",
    "for digit in reversed(list[:-1]):\n",
    "    print(digit)"
   ]
  },
  {
   "cell_type": "code",
   "execution_count": 68,
   "id": "89b23017",
   "metadata": {},
   "outputs": [
    {
     "data": {
      "text/plain": [
       "[3, 2, 1]"
      ]
     },
     "execution_count": 68,
     "metadata": {},
     "output_type": "execute_result"
    }
   ],
   "source": [
    "list[::-1]"
   ]
  },
  {
   "cell_type": "code",
   "execution_count": 129,
   "id": "93109f85",
   "metadata": {},
   "outputs": [
    {
     "name": "stdout",
     "output_type": "stream",
     "text": [
      "None\n"
     ]
    }
   ],
   "source": [
    "print([1].extend(list))"
   ]
  },
  {
   "cell_type": "code",
   "execution_count": 131,
   "id": "0ea04ec8",
   "metadata": {},
   "outputs": [],
   "source": [
    "listTwo = [1]"
   ]
  },
  {
   "cell_type": "code",
   "execution_count": 132,
   "id": "9a55badf",
   "metadata": {},
   "outputs": [
    {
     "name": "stdout",
     "output_type": "stream",
     "text": [
      "[1, 2, 3]\n",
      "[1]\n"
     ]
    }
   ],
   "source": [
    "print(list)\n",
    "print(listTwo)"
   ]
  },
  {
   "cell_type": "code",
   "execution_count": 135,
   "id": "597a4877",
   "metadata": {},
   "outputs": [],
   "source": [
    "listTwo.extend(list)"
   ]
  },
  {
   "cell_type": "code",
   "execution_count": 136,
   "id": "806afa84",
   "metadata": {},
   "outputs": [
    {
     "data": {
      "text/plain": [
       "[1, [1, 2, 3], 1, 2, 3, 1, 2, 3]"
      ]
     },
     "execution_count": 136,
     "metadata": {},
     "output_type": "execute_result"
    }
   ],
   "source": [
    "listTwo"
   ]
  },
  {
   "cell_type": "code",
   "execution_count": null,
   "id": "558cc55a",
   "metadata": {},
   "outputs": [],
   "source": []
  }
 ],
 "metadata": {
  "kernelspec": {
   "display_name": "Python 3 (ipykernel)",
   "language": "python",
   "name": "python3"
  },
  "language_info": {
   "codemirror_mode": {
    "name": "ipython",
    "version": 3
   },
   "file_extension": ".py",
   "mimetype": "text/x-python",
   "name": "python",
   "nbconvert_exporter": "python",
   "pygments_lexer": "ipython3",
   "version": "3.10.5"
  }
 },
 "nbformat": 4,
 "nbformat_minor": 5
}
