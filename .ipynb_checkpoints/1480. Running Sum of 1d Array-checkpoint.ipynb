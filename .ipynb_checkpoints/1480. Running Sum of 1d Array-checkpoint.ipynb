{
 "cells": [
  {
   "cell_type": "code",
   "execution_count": 4,
   "id": "a7d42c7d",
   "metadata": {},
   "outputs": [
    {
     "data": {
      "text/plain": [
       "[3, 4, 6, 16, 17]"
      ]
     },
     "execution_count": 4,
     "metadata": {},
     "output_type": "execute_result"
    }
   ],
   "source": [
    "class Solution(object):\n",
    "    def runningSum(self, nums):\n",
    "        sums = []\n",
    "        total = 0\n",
    "        \n",
    "        for num in nums:\n",
    "            total += num\n",
    "            sums.append(total)\n",
    "            \n",
    "        return sums\n",
    "        \n",
    "        \n",
    "        \n",
    "nums = [3,1,2,10,1]\n",
    "Solution().runningSum(nums)"
   ]
  },
  {
   "cell_type": "markdown",
   "id": "0613d19d",
   "metadata": {},
   "source": [
    "Accepted 75% speed, 66% memory"
   ]
  },
  {
   "cell_type": "code",
   "execution_count": null,
   "id": "e1702354",
   "metadata": {},
   "outputs": [],
   "source": []
  }
 ],
 "metadata": {
  "kernelspec": {
   "display_name": "Python 3 (ipykernel)",
   "language": "python",
   "name": "python3"
  },
  "language_info": {
   "codemirror_mode": {
    "name": "ipython",
    "version": 3
   },
   "file_extension": ".py",
   "mimetype": "text/x-python",
   "name": "python",
   "nbconvert_exporter": "python",
   "pygments_lexer": "ipython3",
   "version": "3.10.5"
  }
 },
 "nbformat": 4,
 "nbformat_minor": 5
}
