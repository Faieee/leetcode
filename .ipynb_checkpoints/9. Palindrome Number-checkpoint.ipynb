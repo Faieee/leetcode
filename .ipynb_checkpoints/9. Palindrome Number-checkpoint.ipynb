{
 "cells": [
  {
   "cell_type": "code",
   "execution_count": null,
   "id": "7fa41abf",
   "metadata": {},
   "outputs": [],
   "source": [
    "class Solution(object):\n",
    "    def isPalindrome(self, x):\n",
    "        \"\"\"\n",
    "        :type x: int\n",
    "        :rtype: bool\n",
    "        \"\"\"\n",
    "        \n",
    "x = 121"
   ]
  },
  {
   "cell_type": "markdown",
   "id": "6b183d6a",
   "metadata": {},
   "source": [
    "turn integer into string and flip it"
   ]
  },
  {
   "cell_type": "code",
   "execution_count": 20,
   "id": "5b1459d0",
   "metadata": {},
   "outputs": [
    {
     "data": {
      "text/plain": [
       "True"
      ]
     },
     "execution_count": 20,
     "metadata": {},
     "output_type": "execute_result"
    }
   ],
   "source": [
    "class Solution(object):\n",
    "    def isPalindrome(self, x):\n",
    "        \"\"\"\n",
    "        :type x: int\n",
    "        :rtype: bool\n",
    "        \"\"\"\n",
    "        \n",
    "        number = str(x)\n",
    "        reverseNumber = number[::-1]\n",
    "        \n",
    "        if number == reverseNumber:\n",
    "            return True\n",
    "        else:\n",
    "            return False\n",
    "        \n",
    "Solution().isPalindrome(1001)"
   ]
  },
  {
   "cell_type": "code",
   "execution_count": null,
   "id": "76070ce2",
   "metadata": {},
   "outputs": [],
   "source": []
  }
 ],
 "metadata": {
  "kernelspec": {
   "display_name": "Python 3 (ipykernel)",
   "language": "python",
   "name": "python3"
  },
  "language_info": {
   "codemirror_mode": {
    "name": "ipython",
    "version": 3
   },
   "file_extension": ".py",
   "mimetype": "text/x-python",
   "name": "python",
   "nbconvert_exporter": "python",
   "pygments_lexer": "ipython3",
   "version": "3.10.5"
  }
 },
 "nbformat": 4,
 "nbformat_minor": 5
}
