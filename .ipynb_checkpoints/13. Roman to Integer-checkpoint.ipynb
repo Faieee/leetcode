{
 "cells": [
  {
   "cell_type": "markdown",
   "id": "3d209d1c",
   "metadata": {},
   "source": [
    "simple case without subtracting"
   ]
  },
  {
   "cell_type": "code",
   "execution_count": 6,
   "id": "739edd1e",
   "metadata": {},
   "outputs": [
    {
     "data": {
      "text/plain": [
       "58"
      ]
     },
     "execution_count": 6,
     "metadata": {},
     "output_type": "execute_result"
    }
   ],
   "source": [
    "class Solution(object):\n",
    "    def romanToInt(self, s):\n",
    "        \"\"\"\n",
    "        :type s: str\n",
    "        :rtype: int\n",
    "        \"\"\"\n",
    "        \n",
    "        romanDict = {'I':1, 'V':5, 'X':10, 'L':50, 'C':100, 'D':500, 'M':1000}\n",
    "        sum = 0\n",
    "        \n",
    "        for i in s:\n",
    "            sum += romanDict[i]\n",
    "        \n",
    "        return sum\n",
    "\n",
    "Solution().romanToInt('LVIII')"
   ]
  },
  {
   "cell_type": "markdown",
   "id": "a2582fd9",
   "metadata": {},
   "source": [
    "including check for subtraction of numbers"
   ]
  },
  {
   "cell_type": "code",
   "execution_count": 14,
   "id": "155bdaf2",
   "metadata": {},
   "outputs": [
    {
     "data": {
      "text/plain": [
       "1994"
      ]
     },
     "execution_count": 14,
     "metadata": {},
     "output_type": "execute_result"
    }
   ],
   "source": [
    "class Solution(object):\n",
    "    def romanToInt(self, s):\n",
    "        \"\"\"\n",
    "        :type s: str\n",
    "        :rtype: int\n",
    "        \"\"\"\n",
    "        \n",
    "        roman = {'I':1, 'V':5, 'X':10, 'L':50, 'C':100, 'D':500, 'M':1000}\n",
    "        sum = 0\n",
    "        current = 'I'\n",
    "        \n",
    "        for i in reversed(s):\n",
    "            if roman[i] < roman[current]:\n",
    "                sum -= roman[i]\n",
    "            else:\n",
    "                sum += roman[i]\n",
    "            \n",
    "            current = i\n",
    "        \n",
    "        return sum\n",
    "\n",
    "Solution().romanToInt('MCMXCIV')"
   ]
  },
  {
   "cell_type": "code",
   "execution_count": null,
   "id": "12c8313d",
   "metadata": {},
   "outputs": [],
   "source": []
  }
 ],
 "metadata": {
  "kernelspec": {
   "display_name": "Python 3 (ipykernel)",
   "language": "python",
   "name": "python3"
  },
  "language_info": {
   "codemirror_mode": {
    "name": "ipython",
    "version": 3
   },
   "file_extension": ".py",
   "mimetype": "text/x-python",
   "name": "python",
   "nbconvert_exporter": "python",
   "pygments_lexer": "ipython3",
   "version": "3.10.5"
  }
 },
 "nbformat": 4,
 "nbformat_minor": 5
}
