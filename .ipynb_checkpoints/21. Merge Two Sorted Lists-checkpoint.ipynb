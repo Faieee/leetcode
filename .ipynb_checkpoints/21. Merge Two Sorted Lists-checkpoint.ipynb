{
 "cells": [
  {
   "cell_type": "code",
   "execution_count": 15,
   "id": "b2714f05",
   "metadata": {},
   "outputs": [
    {
     "name": "stdout",
     "output_type": "stream",
     "text": [
      "list2 is smaller to start\n",
      "list1 smaller; adding 1\n",
      "list1 smaller; adding 2\n",
      "list 1 empty; adding rest of list 2\n"
     ]
    },
    {
     "data": {
      "text/plain": [
       "<__main__.ListNode at 0x1b25a9ffdc0>"
      ]
     },
     "execution_count": 15,
     "metadata": {},
     "output_type": "execute_result"
    }
   ],
   "source": [
    "class ListNode(object):\n",
    "    def __init__(self, val=0, next=None):\n",
    "        self.val = val\n",
    "        self.next = next\n",
    "        \n",
    "class Solution(object):\n",
    "    def mergeTwoLists(self, list1, list2):\n",
    "        \"\"\"\n",
    "        :type list1: Optional[ListNode]\n",
    "        :type list2: Optional[ListNode]\n",
    "        :rtype: Optional[ListNode]\n",
    "        \"\"\"\n",
    "        current = ListNode()\n",
    "        \n",
    "        # start new linked list with smallest list\n",
    "        if list1.val < list2.val:\n",
    "            print('list1 is smaller to start')\n",
    "            current = list1\n",
    "            # move list1 up\n",
    "            list1 = list1.next\n",
    "        else:\n",
    "            print('list2 is smaller to start')\n",
    "            current = list2\n",
    "            list2 = list2.next\n",
    "            \n",
    "        head = current\n",
    "        \n",
    "        while(True):\n",
    "            # check if lists are empty\n",
    "            if list1.next == None:\n",
    "                print('list 1 empty; adding rest of list 2')\n",
    "                current.next = list2\n",
    "                return head\n",
    "            if list2.next == None:\n",
    "                print('list 2 empty; adding rest of list 1')\n",
    "                current.next = list1\n",
    "                return head\n",
    "            \n",
    "            if list1.val < list2.val:\n",
    "                print(f'list1 smaller; adding {list1.val}')\n",
    "                current.next = list1\n",
    "                list1 = list1.next\n",
    "            else:\n",
    "                print(f'list2 smaller; adding {list1.val}')\n",
    "                current.next = list2\n",
    "                list2 = list2.next\n",
    "                \n",
    "        \n",
    "list1_1 = ListNode(val=4, next=None)\n",
    "list1_2 = ListNode(val=2, next=list1_1)\n",
    "list1_3 = ListNode(val=1, next=list1_2)\n",
    "\n",
    "list2_1 = ListNode(val=4, next=None)\n",
    "list2_2 = ListNode(val=3, next=list2_1)\n",
    "list2_3 = ListNode(val=1, next=list2_2)\n",
    "\n",
    "Solution().mergeTwoLists(list1_3, list2_3)"
   ]
  },
  {
   "cell_type": "markdown",
   "id": "c0d75583",
   "metadata": {},
   "source": [
    "need an \"insert node\" function"
   ]
  },
  {
   "cell_type": "code",
   "execution_count": 25,
   "id": "683e0fe8",
   "metadata": {},
   "outputs": [
    {
     "name": "stdout",
     "output_type": "stream",
     "text": [
      "list2 is smaller to start\n",
      "list1 smaller; adding 1\n",
      "list1 smaller; adding 2\n",
      "list 1 empty; adding rest of list 2\n"
     ]
    },
    {
     "data": {
      "text/plain": [
       "<__main__.ListNode at 0x1b25c987b20>"
      ]
     },
     "execution_count": 25,
     "metadata": {},
     "output_type": "execute_result"
    }
   ],
   "source": [
    "class ListNode(object):\n",
    "    def __init__(self, val=0, next=None):\n",
    "        self.val = val\n",
    "        self.next = next\n",
    "        \n",
    "class Solution(object):\n",
    "    \n",
    "    \n",
    "    def mergeTwoLists(self, list1, list2):\n",
    "        \"\"\"\n",
    "        :type list1: Optional[ListNode]\n",
    "        :type list2: Optional[ListNode]\n",
    "        :rtype: Optional[ListNode]\n",
    "        \"\"\"\n",
    "        \n",
    "        def insertNode(head, val):\n",
    "            newNode = ListNode(val=val, next=None)\n",
    "\n",
    "            last = head\n",
    "            while last.next != None:\n",
    "                last = last.next\n",
    "\n",
    "            last.next = newNode\n",
    "            \n",
    "        def attachList(head, list):\n",
    "            last = head\n",
    "            while last.next != None:\n",
    "                last = last.next\n",
    "                \n",
    "            last.next = list\n",
    "        \n",
    "        # start new linked list with smallest list\n",
    "        if list1.val < list2.val:\n",
    "            print('list1 is smaller to start')\n",
    "            head = list1\n",
    "            # move list1 up\n",
    "            list1 = list1.next\n",
    "        else:\n",
    "            print('list2 is smaller to start')\n",
    "            head = list2\n",
    "            list2 = list2.next\n",
    "        \n",
    "        while(True):\n",
    "            # check if lists are empty\n",
    "            if list1.next == None:\n",
    "                print('list 1 empty; adding rest of list 2')\n",
    "                attachList(head, list2)\n",
    "                return head\n",
    "            if list2.next == None:\n",
    "                print('list 2 empty; adding rest of list 1')\n",
    "                attachList(head, list1)\n",
    "                return head\n",
    "            \n",
    "            # compare lists\n",
    "            if list1.val < list2.val:\n",
    "                print(f'list1 smaller; adding {list1.val}')\n",
    "                insertNode(head, list1.val)\n",
    "                list1 = list1.next\n",
    "            else:\n",
    "                print(f'list2 smaller; adding {list1.val}')\n",
    "                insertNode(head, list2.val)\n",
    "                list2 = list2.next\n",
    "                \n",
    "        \n",
    "list1_1 = ListNode(val=4, next=None)\n",
    "list1_2 = ListNode(val=2, next=list1_1)\n",
    "list1_3 = ListNode(val=1, next=list1_2)\n",
    "\n",
    "list2_1 = ListNode(val=4, next=None)\n",
    "list2_2 = ListNode(val=3, next=list2_1)\n",
    "list2_3 = ListNode(val=1, next=list2_2)\n",
    "\n",
    "Solution().mergeTwoLists(list1_3, list2_3)"
   ]
  },
  {
   "cell_type": "code",
   "execution_count": null,
   "id": "bfb6b9d1",
   "metadata": {},
   "outputs": [],
   "source": []
  }
 ],
 "metadata": {
  "kernelspec": {
   "display_name": "Python 3 (ipykernel)",
   "language": "python",
   "name": "python3"
  },
  "language_info": {
   "codemirror_mode": {
    "name": "ipython",
    "version": 3
   },
   "file_extension": ".py",
   "mimetype": "text/x-python",
   "name": "python",
   "nbconvert_exporter": "python",
   "pygments_lexer": "ipython3",
   "version": "3.10.5"
  }
 },
 "nbformat": 4,
 "nbformat_minor": 5
}
