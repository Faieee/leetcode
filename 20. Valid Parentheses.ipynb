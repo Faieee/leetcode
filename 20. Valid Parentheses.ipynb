{
 "cells": [
  {
   "cell_type": "markdown",
   "id": "046b087c",
   "metadata": {},
   "source": [
    "Going to try adding elements from left to right to a stack, and then removing them if it's the same as the last element"
   ]
  },
  {
   "cell_type": "code",
   "execution_count": 17,
   "id": "5a1b8f8d",
   "metadata": {},
   "outputs": [
    {
     "ename": "IndexError",
     "evalue": "list index out of range",
     "output_type": "error",
     "traceback": [
      "\u001b[1;31m---------------------------------------------------------------------------\u001b[0m",
      "\u001b[1;31mIndexError\u001b[0m                                Traceback (most recent call last)",
      "Input \u001b[1;32mIn [17]\u001b[0m, in \u001b[0;36m<cell line: 24>\u001b[1;34m()\u001b[0m\n\u001b[0;32m     21\u001b[0m             \u001b[38;5;28mprint\u001b[39m(stack)\n\u001b[0;32m     22\u001b[0m             \u001b[38;5;28;01mreturn\u001b[39;00m \u001b[38;5;28;01mFalse\u001b[39;00m\n\u001b[1;32m---> 24\u001b[0m \u001b[43mSolution\u001b[49m\u001b[43m(\u001b[49m\u001b[43m)\u001b[49m\u001b[38;5;241;43m.\u001b[39;49m\u001b[43misValid\u001b[49m\u001b[43m(\u001b[49m\u001b[38;5;124;43m\"\u001b[39;49m\u001b[38;5;124;43m()[]\u001b[39;49m\u001b[38;5;132;43;01m{}\u001b[39;49;00m\u001b[38;5;124;43m}\u001b[39;49m\u001b[38;5;124;43m\"\u001b[39;49m\u001b[43m)\u001b[49m\n",
      "Input \u001b[1;32mIn [17]\u001b[0m, in \u001b[0;36mSolution.isValid\u001b[1;34m(self, s)\u001b[0m\n\u001b[0;32m     11\u001b[0m stack\u001b[38;5;241m.\u001b[39mappend(s[\u001b[38;5;241m0\u001b[39m])\n\u001b[0;32m     12\u001b[0m \u001b[38;5;28;01mfor\u001b[39;00m element \u001b[38;5;129;01min\u001b[39;00m s[\u001b[38;5;241m1\u001b[39m:]:\n\u001b[1;32m---> 13\u001b[0m     \u001b[38;5;28;01mif\u001b[39;00m element \u001b[38;5;129;01min\u001b[39;00m matching\u001b[38;5;241m.\u001b[39mkeys() \u001b[38;5;129;01mand\u001b[39;00m matching[element] \u001b[38;5;241m==\u001b[39m \u001b[43mstack\u001b[49m\u001b[43m[\u001b[49m\u001b[38;5;28;43mlen\u001b[39;49m\u001b[43m(\u001b[49m\u001b[43mstack\u001b[49m\u001b[43m)\u001b[49m\u001b[43m \u001b[49m\u001b[38;5;241;43m-\u001b[39;49m\u001b[38;5;241;43m1\u001b[39;49m\u001b[43m]\u001b[49m:\n\u001b[0;32m     14\u001b[0m         stack\u001b[38;5;241m.\u001b[39mpop(\u001b[38;5;28mlen\u001b[39m(stack) \u001b[38;5;241m-\u001b[39m\u001b[38;5;241m1\u001b[39m)\n\u001b[0;32m     15\u001b[0m     \u001b[38;5;28;01melse\u001b[39;00m:\n",
      "\u001b[1;31mIndexError\u001b[0m: list index out of range"
     ]
    }
   ],
   "source": [
    "class Solution(object):\n",
    "    def isValid(self, s):\n",
    "        \"\"\"\n",
    "        :type s: str\n",
    "        :rtype: bool\n",
    "        \"\"\"\n",
    "        \n",
    "        matching = {']':'[', ')':'(', '}':'{'}\n",
    "        stack = []\n",
    "        \n",
    "        stack.append(s[0])\n",
    "        for element in s[1:]:\n",
    "            if element in matching.keys() and matching[element] == stack[len(stack) -1]:\n",
    "                stack.pop(len(stack) -1)\n",
    "            else:\n",
    "                stack.append(element)\n",
    "        \n",
    "        if len(stack) == 0:\n",
    "            return True\n",
    "        else:\n",
    "            print(stack)\n",
    "            return False\n",
    "        \n",
    "Solution().isValid(\"()[]{}\")"
   ]
  },
  {
   "cell_type": "markdown",
   "id": "66fe5c49",
   "metadata": {},
   "source": [
    "doesn't work well, and leetcode evaluates both parts of the first if statement and throws an error if key doesnt exist"
   ]
  },
  {
   "cell_type": "code",
   "execution_count": 33,
   "id": "44630238",
   "metadata": {},
   "outputs": [
    {
     "data": {
      "text/plain": [
       "True"
      ]
     },
     "execution_count": 33,
     "metadata": {},
     "output_type": "execute_result"
    }
   ],
   "source": [
    "class Solution(object):\n",
    "    def isValid(self, s):\n",
    "        \"\"\"\n",
    "        :type s: str\n",
    "        :rtype: bool\n",
    "        \"\"\"\n",
    "        \n",
    "        matching = {']':'[', ')':'(', '}':'{'}\n",
    "        stack = []\n",
    "        \n",
    "        stack.append(s[0])\n",
    "        for element in s[1:]:\n",
    "            if element in matching.keys() and matching[element] == stack[len(stack) -1]:\n",
    "                stack.pop(len(stack) -1)\n",
    "            else:\n",
    "                stack.append(element)\n",
    "        \n",
    "        if len(stack) == 0:\n",
    "            return True\n",
    "        else:\n",
    "            print(stack)\n",
    "            return False\n",
    "        \n",
    "Solution().isValid(\"(){}{}]\")"
   ]
  },
  {
   "cell_type": "code",
   "execution_count": null,
   "id": "bca20af9",
   "metadata": {},
   "outputs": [],
   "source": []
  }
 ],
 "metadata": {
  "kernelspec": {
   "display_name": "Python 3 (ipykernel)",
   "language": "python",
   "name": "python3"
  },
  "language_info": {
   "codemirror_mode": {
    "name": "ipython",
    "version": 3
   },
   "file_extension": ".py",
   "mimetype": "text/x-python",
   "name": "python",
   "nbconvert_exporter": "python",
   "pygments_lexer": "ipython3",
   "version": "3.10.5"
  }
 },
 "nbformat": 4,
 "nbformat_minor": 5
}
