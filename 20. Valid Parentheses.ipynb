{
 "cells": [
  {
   "cell_type": "markdown",
   "id": "046b087c",
   "metadata": {},
   "source": [
    "Going to try adding elements from left to right to a stack, and then removing them if it's the same as the last element"
   ]
  },
  {
   "cell_type": "code",
   "execution_count": 1,
   "id": "5a1b8f8d",
   "metadata": {},
   "outputs": [
    {
     "data": {
      "text/plain": [
       "True"
      ]
     },
     "execution_count": 1,
     "metadata": {},
     "output_type": "execute_result"
    }
   ],
   "source": [
    "class Solution(object):\n",
    "    def isValid(self, s):\n",
    "        \"\"\"\n",
    "        :type s: str\n",
    "        :rtype: bool\n",
    "        \"\"\"\n",
    "        \n",
    "        matching = {']':'[', ')':'(', '}':'{'}\n",
    "        stack = []\n",
    "        \n",
    "        stack.append(s[0])\n",
    "        for element in s[1:]:\n",
    "            if element in matching.keys() and matching[element] == stack[len(stack) -1]:\n",
    "                stack.pop(len(stack) -1)\n",
    "            else:\n",
    "                stack.append(element)\n",
    "        \n",
    "        if len(stack) == 0:\n",
    "            return True\n",
    "        else:\n",
    "            print(stack)\n",
    "            return False\n",
    "        \n",
    "Solution().isValid(\"()[]{}\")"
   ]
  },
  {
   "cell_type": "markdown",
   "id": "66fe5c49",
   "metadata": {},
   "source": [
    "doesn't work well, and leetcode evaluates both parts of the first if statement and throws an error if key doesnt exist\n",
    "\n",
    "cell below accepted faster than 92%"
   ]
  },
  {
   "cell_type": "code",
   "execution_count": 3,
   "id": "44630238",
   "metadata": {},
   "outputs": [
    {
     "data": {
      "text/plain": [
       "True"
      ]
     },
     "execution_count": 3,
     "metadata": {},
     "output_type": "execute_result"
    }
   ],
   "source": [
    "class Solution(object):\n",
    "    def isValid(self, s):\n",
    "        \"\"\"\n",
    "        :type s: str\n",
    "        :rtype: bool\n",
    "        \"\"\"\n",
    "        \n",
    "        matching = {']':'[', ')':'(', '}':'{'}\n",
    "        stack = []\n",
    "        \n",
    "        for element in s:\n",
    "            # if stack is empty, skip all stepts and append element\n",
    "            if len(stack) == 0:\n",
    "                stack.append(element)\n",
    "            else:\n",
    "                # check if element is a closing parenthesis\n",
    "                if element in matching.keys():\n",
    "                    # check if element closes last thing in stack\n",
    "                    if matching[element] == stack[len(stack) - 1]:\n",
    "                        stack.pop()\n",
    "                    else:\n",
    "                        stack.append(element)\n",
    "                else:\n",
    "                    stack.append(element)\n",
    "        \n",
    "        if len(stack) == 0:\n",
    "            return True\n",
    "        else:\n",
    "            print(stack)\n",
    "            return False\n",
    "        \n",
    "Solution().isValid(\"(){}{}\")"
   ]
  },
  {
   "cell_type": "code",
   "execution_count": 2,
   "id": "bca20af9",
   "metadata": {},
   "outputs": [
    {
     "data": {
      "text/plain": [
       "dict_keys([1, 3, 5])"
      ]
     },
     "execution_count": 2,
     "metadata": {},
     "output_type": "execute_result"
    }
   ],
   "source": [
    "dict = {1:2, 3:4, 5:6}\n",
    "dict.keys()"
   ]
  },
  {
   "cell_type": "code",
   "execution_count": 4,
   "id": "39b5c5bb",
   "metadata": {},
   "outputs": [
    {
     "data": {
      "text/plain": [
       "False"
      ]
     },
     "execution_count": 4,
     "metadata": {},
     "output_type": "execute_result"
    }
   ],
   "source": [
    "(2 in dict.keys())"
   ]
  },
  {
   "cell_type": "code",
   "execution_count": 5,
   "id": "b0f08ed5",
   "metadata": {},
   "outputs": [],
   "source": [
    "list = [1, 2, 3]"
   ]
  },
  {
   "cell_type": "code",
   "execution_count": 6,
   "id": "e092cbd9",
   "metadata": {},
   "outputs": [
    {
     "data": {
      "text/plain": [
       "3"
      ]
     },
     "execution_count": 6,
     "metadata": {},
     "output_type": "execute_result"
    }
   ],
   "source": [
    "list.pop()"
   ]
  },
  {
   "cell_type": "code",
   "execution_count": 7,
   "id": "8092d2a0",
   "metadata": {},
   "outputs": [
    {
     "data": {
      "text/plain": [
       "[1, 2]"
      ]
     },
     "execution_count": 7,
     "metadata": {},
     "output_type": "execute_result"
    }
   ],
   "source": [
    "list"
   ]
  },
  {
   "cell_type": "code",
   "execution_count": null,
   "id": "8616a0a1",
   "metadata": {},
   "outputs": [],
   "source": []
  }
 ],
 "metadata": {
  "kernelspec": {
   "display_name": "Python 3 (ipykernel)",
   "language": "python",
   "name": "python3"
  },
  "language_info": {
   "codemirror_mode": {
    "name": "ipython",
    "version": 3
   },
   "file_extension": ".py",
   "mimetype": "text/x-python",
   "name": "python",
   "nbconvert_exporter": "python",
   "pygments_lexer": "ipython3",
   "version": "3.10.5"
  }
 },
 "nbformat": 4,
 "nbformat_minor": 5
}
